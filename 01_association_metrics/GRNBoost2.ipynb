{
 "cells": [
  {
   "cell_type": "code",
   "execution_count": 1,
   "metadata": {},
   "outputs": [],
   "source": [
    "import matplotlib as mpl\n",
    "mpl.rcParams['pdf.fonttype'] = 42\n",
    "import pandas as pd\n",
    "import matplotlib.pyplot as plt\n",
    "import numpy as np\n",
    "from pathlib import Path\n",
    "import seaborn as sns\n",
    "%matplotlib inline\n",
    "%run dataset.ipynb\n",
    "\n",
    "def select_gene_nonzeroratio(df, ratio):\n",
    "    nonzerocounts = np.count_nonzero(df.values, axis=0) / df.shape[0]\n",
    "    selected_genes = df.columns[nonzerocounts > ratio]\n",
    "    return selected_genes"
   ]
  },
  {
   "cell_type": "code",
   "execution_count": 2,
   "metadata": {},
   "outputs": [],
   "source": [
    "datasetname = 'onemillionv2'\n",
    "dataset = DATASET(datasetname)\n",
    "dataset.load_dataset()\n",
    "data_sc = dataset.data_sc"
   ]
  },
  {
   "cell_type": "code",
   "execution_count": 3,
   "metadata": {},
   "outputs": [
    {
     "name": "stdout",
     "output_type": "stream",
     "text": [
      "395\n"
     ]
    }
   ],
   "source": [
    "monocyte_ut = data_sc[(data_sc.obs['time']=='UT') & (data_sc.obs['cell_type_lowerres']=='monocyte')]\n",
    "monocyte_ut_df = pd.DataFrame(data=monocyte_ut.X.toarray(),\n",
    "                              index=monocyte_ut.obs.index,\n",
    "                              columns=monocyte_ut.var.index)\n",
    "mono_genes = select_gene_nonzeroratio(df=monocyte_ut_df, ratio=0.50)\n",
    "print(len(mono_genes))"
   ]
  },
  {
   "cell_type": "code",
   "execution_count": 6,
   "metadata": {},
   "outputs": [
    {
     "name": "stdout",
     "output_type": "stream",
     "text": [
      "(11482, 379) (194, 379)\n"
     ]
    }
   ],
   "source": [
    "bp_df = pd.read_csv('mono_gene_nor_combat_20151109.ProbesWithZeroVarianceRemoved.ProbesCentered.SamplesZTransformed.1PCAsOverSamplesRemoved.txt.gz',\n",
    "                   compression='gzip',\n",
    "                   sep='\\t', index_col=0)\n",
    "name_mapping_dic = pd.read_csv('features_v3_reformated_names.tsv',\n",
    "                          sep ='\\t',\n",
    "                          names=['geneid', 'genename']).set_index(['geneid'])['genename'].T.to_dict()\n",
    "\n",
    "bp_df['geneid'] = [item.split('.')[0] for item in bp_df.index]\n",
    "bp_df['genename'] = [name_mapping_dic.get(geneid) for geneid in bp_df['geneid']]\n",
    "bp_df = bp_df.dropna(subset=['genename'])\n",
    "bp_df = bp_df.drop('geneid', axis=1)\n",
    "bp_df = bp_df.set_index('genename')\n",
    "print(bp_df.shape)\n",
    "\n",
    "bp_trans_df = bp_df.T\n",
    "common_genes = list(set(mono_genes) & set(bp_trans_df.columns))\n",
    "selected_mono_df = monocyte_ut_df[common_genes]\n",
    "selected_bp_df = bp_trans_df[common_genes]\n",
    "print(selected_mono_df.shape, selected_bp_df.shape)"
   ]
  },
  {
   "cell_type": "code",
   "execution_count": 7,
   "metadata": {},
   "outputs": [],
   "source": [
    "selected_mono_df.T.to_csv('sc_Expression.csv', sep=',')\n",
    "selected_bp_df.T.to_csv('bp_Expression.csv', sep=',')"
   ]
  },
  {
   "cell_type": "code",
   "execution_count": 8,
   "metadata": {},
   "outputs": [],
   "source": [
    "# create this fake pseudo time ordering because it's required to run the Beeline tool, but not used by GRNBoost2\n",
    "fake_timepoint_bp = pd.DataFrame(index=selected_bp_df.index)\n",
    "fake_timepoint_bp['time'] = np.arange(selected_bp_df.shape[0])\n",
    "fake_timepoint_bp.to_csv('bp_timepoint.fake.csv',\n",
    "                        sep=',')\n",
    "fake_timepoint_sc = pd.DataFrame(index=selected_mono_df.index)\n",
    "fake_timepoint_sc['time'] = np.arange(selected_mono_df.shape[0])\n",
    "fake_timepoint_sc.to_csv('sc_timepoint.fake.csv',\n",
    "                        sep=',')"
   ]
  },
  {
   "cell_type": "code",
   "execution_count": 9,
   "metadata": {},
   "outputs": [],
   "source": [
    "# perform GRNBoost2 with BEELINE, see the yaml files in the same directory\n",
    "# python BLRunner.py --config config-files/config_bp_mono.yaml\n",
    "# python BLRunner.py --config config-files/config_sc_mono.yaml"
   ]
  },
  {
   "cell_type": "code",
   "execution_count": 10,
   "metadata": {},
   "outputs": [
    {
     "data": {
      "text/html": [
       "<div>\n",
       "<style scoped>\n",
       "    .dataframe tbody tr th:only-of-type {\n",
       "        vertical-align: middle;\n",
       "    }\n",
       "\n",
       "    .dataframe tbody tr th {\n",
       "        vertical-align: top;\n",
       "    }\n",
       "\n",
       "    .dataframe thead th {\n",
       "        text-align: right;\n",
       "    }\n",
       "</style>\n",
       "<table border=\"1\" class=\"dataframe\">\n",
       "  <thead>\n",
       "    <tr style=\"text-align: right;\">\n",
       "      <th></th>\n",
       "      <th>Gene1_sc</th>\n",
       "      <th>Gene2_sc</th>\n",
       "      <th>EdgeWeight_sc</th>\n",
       "      <th>Gene1_bp</th>\n",
       "      <th>Gene2_bp</th>\n",
       "      <th>EdgeWeight_bp</th>\n",
       "    </tr>\n",
       "    <tr>\n",
       "      <th>sorted_genepairs</th>\n",
       "      <th></th>\n",
       "      <th></th>\n",
       "      <th></th>\n",
       "      <th></th>\n",
       "      <th></th>\n",
       "      <th></th>\n",
       "    </tr>\n",
       "  </thead>\n",
       "  <tbody>\n",
       "    <tr>\n",
       "      <th>CCL3;CCL4</th>\n",
       "      <td>CCL3</td>\n",
       "      <td>CCL4</td>\n",
       "      <td>554.503642</td>\n",
       "      <td>CCL3</td>\n",
       "      <td>CCL4</td>\n",
       "      <td>55.157748</td>\n",
       "    </tr>\n",
       "    <tr>\n",
       "      <th>CCL4;CCL3</th>\n",
       "      <td>CCL4</td>\n",
       "      <td>CCL3</td>\n",
       "      <td>480.484753</td>\n",
       "      <td>CCL4</td>\n",
       "      <td>CCL3</td>\n",
       "      <td>77.414467</td>\n",
       "    </tr>\n",
       "    <tr>\n",
       "      <th>S100A9;S100A8</th>\n",
       "      <td>S100A9</td>\n",
       "      <td>S100A8</td>\n",
       "      <td>341.726427</td>\n",
       "      <td>S100A9</td>\n",
       "      <td>S100A8</td>\n",
       "      <td>104.542395</td>\n",
       "    </tr>\n",
       "    <tr>\n",
       "      <th>S100A8;S100A9</th>\n",
       "      <td>S100A8</td>\n",
       "      <td>S100A9</td>\n",
       "      <td>284.321568</td>\n",
       "      <td>S100A8</td>\n",
       "      <td>S100A9</td>\n",
       "      <td>65.915233</td>\n",
       "    </tr>\n",
       "    <tr>\n",
       "      <th>S100A9;LYZ</th>\n",
       "      <td>S100A9</td>\n",
       "      <td>LYZ</td>\n",
       "      <td>221.872616</td>\n",
       "      <td>S100A9</td>\n",
       "      <td>LYZ</td>\n",
       "      <td>0.149064</td>\n",
       "    </tr>\n",
       "  </tbody>\n",
       "</table>\n",
       "</div>"
      ],
      "text/plain": [
       "                 Gene1_sc Gene2_sc  EdgeWeight_sc Gene1_bp Gene2_bp  \\\n",
       "sorted_genepairs                                                      \n",
       "CCL3;CCL4            CCL3     CCL4     554.503642     CCL3     CCL4   \n",
       "CCL4;CCL3            CCL4     CCL3     480.484753     CCL4     CCL3   \n",
       "S100A9;S100A8      S100A9   S100A8     341.726427   S100A9   S100A8   \n",
       "S100A8;S100A9      S100A8   S100A9     284.321568   S100A8   S100A9   \n",
       "S100A9;LYZ         S100A9      LYZ     221.872616   S100A9      LYZ   \n",
       "\n",
       "                  EdgeWeight_bp  \n",
       "sorted_genepairs                 \n",
       "CCL3;CCL4             55.157748  \n",
       "CCL4;CCL3             77.414467  \n",
       "S100A9;S100A8        104.542395  \n",
       "S100A8;S100A9         65.915233  \n",
       "S100A9;LYZ             0.149064  "
      ]
     },
     "execution_count": 10,
     "metadata": {},
     "output_type": "execute_result"
    }
   ],
   "source": [
    "sc_edges = pd.read_csv('sc_edges.csv', sep='\\t')\n",
    "sc_edges['sorted_genepairs'] = [';'.join(item) for item in sc_edges[['Gene1', 'Gene2']].values]\n",
    "bp_edges = pd.read_csv('bp_edges.csv', sep='\\t')\n",
    "bp_edges['sorted_genepairs'] = [';'.join(item) for item in bp_edges[['Gene1', 'Gene2']].values]\n",
    "\n",
    "sc_edges = sc_edges.set_index('sorted_genepairs')\n",
    "bp_edges = bp_edges.set_index('sorted_genepairs')\n",
    "concated_edges = pd.concat([sc_edges.add_suffix('_sc'), bp_edges.add_suffix('_bp')], axis=1)\n",
    "\n",
    "concated_edges.head()"
   ]
  },
  {
   "cell_type": "code",
   "execution_count": 11,
   "metadata": {},
   "outputs": [
    {
     "data": {
      "text/plain": [
       "SpearmanrResult(correlation=0.16937964029402044, pvalue=0.0)"
      ]
     },
     "execution_count": 11,
     "metadata": {},
     "output_type": "execute_result"
    }
   ],
   "source": [
    "concated_edges = concated_edges.dropna()\n",
    "spearmanr(concated_edges['EdgeWeight_sc'], concated_edges['EdgeWeight_bp'])"
   ]
  },
  {
   "cell_type": "code",
   "execution_count": 12,
   "metadata": {},
   "outputs": [
    {
     "data": {
      "text/plain": [
       "Text(0.5, 1.0, 'Spearman r = 0.17')"
      ]
     },
     "execution_count": 12,
     "metadata": {},
     "output_type": "execute_result"
    },
    {
     "data": {
      "image/png": "[encoded data removed]",
      "text/plain": [
       "<Figure size 360x360 with 1 Axes>"
      ]
     },
     "metadata": {
      "needs_background": "light"
     },
     "output_type": "display_data"
    }
   ],
   "source": [
    "coef, p = spearmanr(concated_edges['EdgeWeight_sc'], concated_edges['EdgeWeight_bp'])\n",
    "plt.figure(figsize=(5, 5))\n",
    "plt.scatter(concated_edges['EdgeWeight_sc'], concated_edges['EdgeWeight_bp'], s=1, alpha=0.5)\n",
    "plt.xlabel('Edge weight from scRNAseq')\n",
    "plt.ylabel('Edge weight from BLUEPRINT')\n",
    "plt.title(f'Spearman r = {coef:.2f}')\n",
    "# plt.savefig('grnboost2_sc_bp_comparison.png')"
   ]
  },
  {
   "cell_type": "code",
   "execution_count": null,
   "metadata": {},
   "outputs": [],
   "source": []
  }
 ],
 "metadata": {
  "kernelspec": {
   "display_name": "Python 3",
   "language": "python",
   "name": "python3"
  },
  "language_info": {
   "codemirror_mode": {
    "name": "ipython",
    "version": 3
   },
   "file_extension": ".py",
   "mimetype": "text/x-python",
   "name": "python",
   "nbconvert_exporter": "python",
   "pygments_lexer": "ipython3",
   "version": "3.7.11"
  }
 },
 "nbformat": 4,
 "nbformat_minor": 4
}
